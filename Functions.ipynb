{
 "cells": [
  {
   "cell_type": "code",
   "execution_count": 7,
   "id": "2bb53cec-6087-46d7-95c2-c4dd9877f8b5",
   "metadata": {},
   "outputs": [],
   "source": [
    "def display_name():\n",
    "    user_input = input(\"Enter your name\")\n",
    "    return (user_input)\n"
   ]
  },
  {
   "cell_type": "code",
   "execution_count": 8,
   "id": "fcce2dd7-b75a-4c7e-9794-2d885620915d",
   "metadata": {},
   "outputs": [
    {
     "name": "stdin",
     "output_type": "stream",
     "text": [
      "Enter your name bilal\n"
     ]
    },
    {
     "data": {
      "text/plain": [
       "'bilal'"
      ]
     },
     "execution_count": 8,
     "metadata": {},
     "output_type": "execute_result"
    }
   ],
   "source": [
    "display_name()"
   ]
  },
  {
   "cell_type": "code",
   "execution_count": 11,
   "id": "e63c2c16-1550-4ec2-8c37-02eae1f6779d",
   "metadata": {},
   "outputs": [],
   "source": [
    "def generate_password():\n",
    "    name = display_name()\n",
    "    name = name + \"23432@\"\n",
    "    print(name)"
   ]
  },
  {
   "cell_type": "code",
   "execution_count": 12,
   "id": "0b10d6dd-d30e-45d3-a011-4c57b5ef03dd",
   "metadata": {},
   "outputs": [
    {
     "name": "stdin",
     "output_type": "stream",
     "text": [
      "Enter your name bilal\n"
     ]
    },
    {
     "name": "stdout",
     "output_type": "stream",
     "text": [
      "bilal23432@\n"
     ]
    }
   ],
   "source": [
    "generate_password()"
   ]
  },
  {
   "cell_type": "markdown",
   "id": "44808775-7aa3-4d76-a6a3-840a87c0e7ad",
   "metadata": {},
   "source": [
    "### Task:\n",
    "- Create a simple calculator with features  like addition substraction multiplication and division"
   ]
  },
  {
   "cell_type": "code",
   "execution_count": 13,
   "id": "16223b8a-79cf-4baa-98d7-77243827a455",
   "metadata": {},
   "outputs": [
    {
     "name": "stdin",
     "output_type": "stream",
     "text": [
      "Enter first number:  25\n",
      "Enter second number:  23\n"
     ]
    },
    {
     "name": "stdout",
     "output_type": "stream",
     "text": [
      "Addition: 48\n",
      "Subtraction: 2\n",
      "Multiplication: 575\n",
      "Division: 1.0869565217391304\n"
     ]
    }
   ],
   "source": [
    "def add(x, y):\n",
    "    return x + y\n",
    "\n",
    "def sub(x, y):\n",
    "    return x - y\n",
    "\n",
    "def mul(x, y):\n",
    "    return x * y\n",
    "\n",
    "def div(x, y):\n",
    "    return x / y\n",
    "\n",
    "a = int(input(\"Enter first number: \"))\n",
    "b = int(input(\"Enter second number: \"))\n",
    "\n",
    "print(\"Addition:\", add(a, b))\n",
    "print(\"Subtraction:\", sub(a, b))\n",
    "print(\"Multiplication:\", mul(a, b))\n",
    "print(\"Division:\", div(a, b))\n"
   ]
  },
  {
   "cell_type": "code",
   "execution_count": 16,
   "id": "687891c8-8402-454e-8382-0725712e19e8",
   "metadata": {},
   "outputs": [
    {
     "name": "stdin",
     "output_type": "stream",
     "text": [
      "Enter first number:  256\n",
      "Enter second number:  236\n",
      "Enter operator (+, -, *, /):  *\n"
     ]
    },
    {
     "name": "stdout",
     "output_type": "stream",
     "text": [
      "Result: 60416\n"
     ]
    }
   ],
   "source": [
    "def calculator(a, b, op):\n",
    "    if op == '+':\n",
    "        return a + b\n",
    "    elif op == '-':\n",
    "        return a - b\n",
    "    elif op == '*':\n",
    "        return a * b\n",
    "    elif op == '/':\n",
    "        return a / b\n",
    "    else:\n",
    "        return \"Invalid Operator\"\n",
    "\n",
    "x = int(input(\"Enter first number: \"))\n",
    "y = int(input(\"Enter second number: \"))\n",
    "op = input(\"Enter operator (+, -, *, /): \")\n",
    "\n",
    "print(\"Result:\", calculator(x, y, op))\n"
   ]
  },
  {
   "cell_type": "markdown",
   "id": "e06e4e02-cec9-4f45-9531-45ffe5ec6bc0",
   "metadata": {},
   "source": [
    "### while loop"
   ]
  },
  {
   "cell_type": "markdown",
   "id": "a7c4630d-7750-4a8b-b3e4-c4cd44d1b183",
   "metadata": {},
   "source": [
    "### You need to ask a city name from user until he give a quite test so you should check in the list wheather the city given by user is a clean city or not"
   ]
  },
  {
   "cell_type": "code",
   "execution_count": 9,
   "id": "7a7a60d0-ebf3-45a8-9e87-49af91d60165",
   "metadata": {},
   "outputs": [],
   "source": [
    "clean_cities = [\"islamabad\", \"karachi\"]"
   ]
  },
  {
   "cell_type": "code",
   "execution_count": 10,
   "id": "d0ed7303-3629-43a7-b4b3-0589b8757a9c",
   "metadata": {},
   "outputs": [],
   "source": [
    "lst = [1, 2, 3, 4, 5]"
   ]
  },
  {
   "cell_type": "code",
   "execution_count": 11,
   "id": "6b0d749c-f2d9-418b-8130-d268cca732f9",
   "metadata": {},
   "outputs": [
    {
     "name": "stdout",
     "output_type": "stream",
     "text": [
      "ali\n",
      "ali\n",
      "ali\n",
      "ali\n",
      "ali\n"
     ]
    }
   ],
   "source": [
    "for i in lst:\n",
    "    print(\"ali\")"
   ]
  },
  {
   "cell_type": "code",
   "execution_count": 12,
   "id": "9c6f766d-2228-4f4f-a8e3-d5efcd6fb9c3",
   "metadata": {},
   "outputs": [
    {
     "name": "stdout",
     "output_type": "stream",
     "text": [
      "ali\n",
      "4\n",
      "ali\n",
      "3\n",
      "ali\n",
      "2\n",
      "ali\n",
      "1\n",
      "ali\n",
      "0\n"
     ]
    }
   ],
   "source": [
    "num = 5\n",
    "while num > 0:\n",
    "    print(\"ali\")\n",
    "    num -= 1\n",
    "    print(num)"
   ]
  },
  {
   "cell_type": "raw",
   "id": "f3d0c2c1-7233-48e5-8fee-78261452c4f3",
   "metadata": {},
   "source": [
    "user_city = input(\"Enter your city:\")\n",
    "\n",
    "for city in clean_cities:\n",
    "    if user_city == city:\n",
    "        print(f\"{user_city}is a clean city\")"
   ]
  },
  {
   "cell_type": "code",
   "execution_count": 13,
   "id": "289bdeef-eefb-4c9d-be64-708c2ef2e89e",
   "metadata": {},
   "outputs": [
    {
     "name": "stdin",
     "output_type": "stream",
     "text": [
      "Enter a city to check or quit to stop the code: karachi\n"
     ]
    },
    {
     "name": "stdout",
     "output_type": "stream",
     "text": [
      "karachi is a clean city.\n"
     ]
    },
    {
     "name": "stdin",
     "output_type": "stream",
     "text": [
      "Enter a city to check or quit to stop the code: rawalpindi\n",
      "Enter a city to check or quit to stop the code: quit'\n",
      "Enter a city to check or quit to stop the code: quit\n"
     ]
    }
   ],
   "source": [
    "user_input = \"\"\n",
    "while user_input != \"quit\":\n",
    "    user_input = input(\"Enter a city to check or quit to stop the code:\")\n",
    "    if user_input != \"quit\":\n",
    "        for city in clean_cities:\n",
    "            if user_input == city:\n",
    "                print(f\"{user_input} is a clean city.\")\n",
    "    "
   ]
  },
  {
   "cell_type": "markdown",
   "id": "fd112611-2b0d-416a-9591-517d297f0b70",
   "metadata": {},
   "source": [
    "### Task:\n",
    "- Create a number guessing game, where you will have a secret number and you will use a while to take an input from user and match the number, if the number matches so display a congratulation message otherwise ask the number again "
   ]
  },
  {
   "cell_type": "code",
   "execution_count": 16,
   "id": "c1693ff3-621c-44bd-b1fc-1066a775cbaa",
   "metadata": {},
   "outputs": [
    {
     "name": "stdout",
     "output_type": "stream",
     "text": [
      "Welcome to Number Guessing Game!\n"
     ]
    },
    {
     "name": "stdin",
     "output_type": "stream",
     "text": [
      "Guess the number:  7\n"
     ]
    },
    {
     "name": "stdout",
     "output_type": "stream",
     "text": [
      "Congratulations! You guessed the right number!\n"
     ]
    }
   ],
   "source": [
    "secret = 7   \n",
    "guess = 0   \n",
    "\n",
    "print(\"Welcome to Number Guessing Game!\")\n",
    "\n",
    "while guess != secret:\n",
    "    guess = int(input(\"Guess the number: \"))\n",
    "    if guess == secret:\n",
    "        print(\"Congratulations! You guessed the right number!\")\n",
    "    else:\n",
    "        print(\"Wrong guess, try again!\")\n"
   ]
  },
  {
   "cell_type": "code",
   "execution_count": null,
   "id": "3b92baf1-3d0e-4ce3-a122-def1ffa0784a",
   "metadata": {},
   "outputs": [],
   "source": []
  },
  {
   "cell_type": "code",
   "execution_count": null,
   "id": "56ef7bc0-658c-4988-9a0f-04f35b5c822f",
   "metadata": {},
   "outputs": [],
   "source": []
  }
 ],
 "metadata": {
  "kernelspec": {
   "display_name": "Python 3 (ipykernel)",
   "language": "python",
   "name": "python3"
  },
  "language_info": {
   "codemirror_mode": {
    "name": "ipython",
    "version": 3
   },
   "file_extension": ".py",
   "mimetype": "text/x-python",
   "name": "python",
   "nbconvert_exporter": "python",
   "pygments_lexer": "ipython3",
   "version": "3.13.5"
  }
 },
 "nbformat": 4,
 "nbformat_minor": 5
}
